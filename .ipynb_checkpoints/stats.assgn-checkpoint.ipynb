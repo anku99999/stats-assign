{
 "cells": [
  {
   "cell_type": "code",
   "execution_count": 1,
   "id": "354e1c6e-6f0a-4099-9610-c6dd7292012c",
   "metadata": {},
   "outputs": [],
   "source": [
    "#Q1  >>> Generate a list of 100 integers containing values between 90 to R30 and store it in the variable `int_list'.\n",
    "# After generating the list, find the following:"
   ]
  },
  {
   "cell_type": "code",
   "execution_count": 2,
   "id": "d9af7955-e939-4d67-af1e-8b41426d1a7e",
   "metadata": {},
   "outputs": [
    {
     "name": "stdout",
     "output_type": "stream",
     "text": [
      "Requirement already satisfied: statsmodels in /opt/conda/lib/python3.10/site-packages (0.13.5)\n",
      "Requirement already satisfied: patsy>=0.5.2 in /opt/conda/lib/python3.10/site-packages (from statsmodels) (0.5.3)\n",
      "Requirement already satisfied: scipy>=1.3 in /opt/conda/lib/python3.10/site-packages (from statsmodels) (1.9.3)\n",
      "Requirement already satisfied: packaging>=21.3 in /opt/conda/lib/python3.10/site-packages (from statsmodels) (22.0)\n",
      "Requirement already satisfied: numpy>=1.17 in /opt/conda/lib/python3.10/site-packages (from statsmodels) (1.23.5)\n",
      "Requirement already satisfied: pandas>=0.25 in /opt/conda/lib/python3.10/site-packages (from statsmodels) (1.5.2)\n",
      "Requirement already satisfied: python-dateutil>=2.8.1 in /opt/conda/lib/python3.10/site-packages (from pandas>=0.25->statsmodels) (2.8.2)\n",
      "Requirement already satisfied: pytz>=2020.1 in /opt/conda/lib/python3.10/site-packages (from pandas>=0.25->statsmodels) (2022.6)\n",
      "Requirement already satisfied: six in /opt/conda/lib/python3.10/site-packages (from patsy>=0.5.2->statsmodels) (1.16.0)\n",
      "Note: you may need to restart the kernel to use updated packages.\n"
     ]
    }
   ],
   "source": [
    "pip install statsmodels"
   ]
  },
  {
   "cell_type": "code",
   "execution_count": 3,
   "id": "86f30f3a-6d5a-41ed-8fe9-73759f6f814b",
   "metadata": {},
   "outputs": [
    {
     "data": {
      "text/plain": [
       "array([118, 124, 122, 102,  98, 106, 113, 100, 118, 124, 103, 124, 112,\n",
       "       106, 109,  97,  92, 118, 119, 125, 100, 121,  96, 108, 128, 104,\n",
       "        98,  91,  93, 117,  94, 103,  90, 102, 122, 104, 123, 126,  97,\n",
       "       125, 110, 114, 107, 120, 116, 116,  95, 119,  99, 112, 101,  97,\n",
       "       122, 117, 122,  99, 104,  97,  97, 103, 109, 118, 120, 102, 110,\n",
       "       122, 121, 122, 123, 120,  95, 124, 124,  90,  93,  98, 112, 107,\n",
       "        94, 109, 106, 119,  98, 126, 110, 107, 103,  95, 125, 114, 113,\n",
       "        97,  93, 100, 117, 103, 108, 117, 106,  95])"
      ]
     },
     "execution_count": 3,
     "metadata": {},
     "output_type": "execute_result"
    }
   ],
   "source": [
    "import numpy as np\n",
    "import pandas as pd\n",
    "import statistics as stats\n",
    "import math\n",
    "import matplotlib.pyplot as plt\n",
    "import seaborn as sns\n",
    "int_list=np.random.randint(90,130,100)\n",
    "int_list"
   ]
  },
  {
   "cell_type": "code",
   "execution_count": 4,
   "id": "61584af4-2a36-4bba-8808-dc72a66fb175",
   "metadata": {},
   "outputs": [],
   "source": [
    "# (1) >> Write a Python function to calculate the mean of a given list of numbers.\n",
    "#Create a function to find the median of a list of numbers."
   ]
  },
  {
   "cell_type": "code",
   "execution_count": 5,
   "id": "c7029a09-6d8b-4666-9ec7-4fb608201355",
   "metadata": {},
   "outputs": [],
   "source": [
    "def find(int_list):\n",
    "    mean=stats.mean(int_list)\n",
    "    median=stats.median(int_list)\n",
    "    return mean,median"
   ]
  },
  {
   "cell_type": "code",
   "execution_count": 6,
   "id": "b749ce14-3a01-44f8-9d21-c430a9001a96",
   "metadata": {},
   "outputs": [
    {
     "data": {
      "text/plain": [
       "(109, 108.5)"
      ]
     },
     "execution_count": 6,
     "metadata": {},
     "output_type": "execute_result"
    }
   ],
   "source": [
    "find(int_list)"
   ]
  },
  {
   "cell_type": "code",
   "execution_count": 7,
   "id": "1f7512cc-9d23-4932-b5d6-b18b9bdb0ce0",
   "metadata": {},
   "outputs": [],
   "source": [
    "# (2) >>  Develop a program to compute the mode of a list of integers."
   ]
  },
  {
   "cell_type": "code",
   "execution_count": 8,
   "id": "4666191e-039d-4db5-8b27-feb12e465d1a",
   "metadata": {},
   "outputs": [],
   "source": [
    "def mode(int_list):\n",
    "    mode=stats.mode(int_list)\n",
    "    return mode"
   ]
  },
  {
   "cell_type": "code",
   "execution_count": 9,
   "id": "79b13a05-9f3f-451e-8b34-98908f7d5677",
   "metadata": {},
   "outputs": [
    {
     "data": {
      "text/plain": [
       "122"
      ]
     },
     "execution_count": 9,
     "metadata": {},
     "output_type": "execute_result"
    }
   ],
   "source": [
    "mode(int_list)"
   ]
  },
  {
   "cell_type": "code",
   "execution_count": 10,
   "id": "048e33b1-d87f-4158-8a4c-1013c84b603c",
   "metadata": {},
   "outputs": [],
   "source": [
    "# (3) implement a function to calculate the weighted mean of a list of values and their corresponding weights."
   ]
  },
  {
   "cell_type": "code",
   "execution_count": 11,
   "id": "86088efc-e371-4f71-a7b0-264823eabb56",
   "metadata": {},
   "outputs": [],
   "source": [
    "data = np.array(int_list)"
   ]
  },
  {
   "cell_type": "code",
   "execution_count": 12,
   "id": "15efc848-282d-4465-a1fd-18c976897f12",
   "metadata": {},
   "outputs": [
    {
     "data": {
      "text/plain": [
       "array([118, 124, 122, 102,  98, 106, 113, 100, 118, 124, 103, 124, 112,\n",
       "       106, 109,  97,  92, 118, 119, 125, 100, 121,  96, 108, 128, 104,\n",
       "        98,  91,  93, 117,  94, 103,  90, 102, 122, 104, 123, 126,  97,\n",
       "       125, 110, 114, 107, 120, 116, 116,  95, 119,  99, 112, 101,  97,\n",
       "       122, 117, 122,  99, 104,  97,  97, 103, 109, 118, 120, 102, 110,\n",
       "       122, 121, 122, 123, 120,  95, 124, 124,  90,  93,  98, 112, 107,\n",
       "        94, 109, 106, 119,  98, 126, 110, 107, 103,  95, 125, 114, 113,\n",
       "        97,  93, 100, 117, 103, 108, 117, 106,  95])"
      ]
     },
     "execution_count": 12,
     "metadata": {},
     "output_type": "execute_result"
    }
   ],
   "source": [
    "data"
   ]
  },
  {
   "cell_type": "code",
   "execution_count": 19,
   "id": "732546c6-f1b4-4485-9601-bad9ecf9146b",
   "metadata": {},
   "outputs": [],
   "source": [
    "def weighted_mean(values,weights):\n",
    "    if len(values) != len(weights):\n",
    "        raise valueError(\"the length of values and weight should be equal\")\n",
    "    weighted_sum=sum(value*weight for value, weight in zip(values,weights))\n",
    "    total_weights=sum(weights)\n",
    "    return weighted_sum"
   ]
  },
  {
   "cell_type": "code",
   "execution_count": 20,
   "id": "4bb980bc-fee3-4bb8-baff-e035048a9416",
   "metadata": {},
   "outputs": [
    {
     "data": {
      "text/plain": [
       "30"
      ]
     },
     "execution_count": 20,
     "metadata": {},
     "output_type": "execute_result"
    }
   ],
   "source": [
    "weighted_mean([1,2,3,4,5],[2,2,2,2,2])"
   ]
  },
  {
   "cell_type": "code",
   "execution_count": 21,
   "id": "abaaabe1-6e52-4e82-a174-e871c708a230",
   "metadata": {},
   "outputs": [],
   "source": [
    "import math"
   ]
  },
  {
   "cell_type": "code",
   "execution_count": 22,
   "id": "d8f6c870-8ebe-437a-890e-52fae74582b2",
   "metadata": {},
   "outputs": [],
   "source": [
    "#(4) >>>> Write a Python function to find the geometric mean of a list of positive numbers."
   ]
  },
  {
   "cell_type": "code",
   "execution_count": 23,
   "id": "67290874-21a8-4648-9fce-1dc52696b6d1",
   "metadata": {},
   "outputs": [
    {
     "name": "stdout",
     "output_type": "stream",
     "text": [
      "Geometric mean: 2.605171084697352\n"
     ]
    }
   ],
   "source": [
    "import math\n",
    "\n",
    "def geometric_mean(values):\n",
    "    if not values:\n",
    "        raise ValueError(\"The list of values is empty.\")\n",
    "    \n",
    "    if any(value <= 0 for value in values):\n",
    "        raise ValueError(\"All values must be positive.\")\n",
    "\n",
    "    product = math.prod(values)\n",
    "    n = len(values)\n",
    "    \n",
    "    return product ** (1/n)\n",
    "\n",
    "\n",
    "values = [1, 2, 3, 4, 5]\n",
    "print(\"Geometric mean:\", geometric_mean(values))\n",
    "\n",
    "    "
   ]
  },
  {
   "cell_type": "code",
   "execution_count": 24,
   "id": "a09b92e7-b1ac-42f0-8bbe-0beedfea7bff",
   "metadata": {},
   "outputs": [],
   "source": [
    "# (5) Create a program to calculate the harmonic mean of a list of values."
   ]
  },
  {
   "cell_type": "code",
   "execution_count": 25,
   "id": "9c90e9cc-b3ab-46e4-91e4-3d8c61463826",
   "metadata": {},
   "outputs": [],
   "source": [
    "def harmonic_mean(values):\n",
    "    if not values:\n",
    "        raise valueErroe(\"the list values is empty\")\n",
    "    n=len(values)\n",
    "    sumission_recipocal=sum(1/value for value in values)\n",
    "    return n/sumission_recipocal\n",
    "    "
   ]
  },
  {
   "cell_type": "code",
   "execution_count": 26,
   "id": "d677891a-18a9-4fcf-90c3-91d6c5f4ee16",
   "metadata": {},
   "outputs": [
    {
     "data": {
      "text/plain": [
       "4.1930116472545755"
      ]
     },
     "execution_count": 26,
     "metadata": {},
     "output_type": "execute_result"
    }
   ],
   "source": [
    "harmonic_mean([2,5,7,9])"
   ]
  },
  {
   "cell_type": "code",
   "execution_count": 27,
   "id": "c494421d-b601-4e41-8002-8d7d728bb35a",
   "metadata": {},
   "outputs": [],
   "source": [
    "#(6) >>> Build a function to determine the midrange of a list of numbers (average of the minimum and maximum)."
   ]
  },
  {
   "cell_type": "code",
   "execution_count": 28,
   "id": "8ae6aec2-48bc-4193-b81e-b0fdb5d7cc38",
   "metadata": {},
   "outputs": [],
   "source": [
    "def midrange(values):\n",
    "    x=max(values)\n",
    "    y=min(values)\n",
    "    return (x+y)/2"
   ]
  },
  {
   "cell_type": "code",
   "execution_count": 29,
   "id": "a3a042c1-8f27-4584-874a-76aab90c04d5",
   "metadata": {},
   "outputs": [
    {
     "data": {
      "text/plain": [
       "109.0"
      ]
     },
     "execution_count": 29,
     "metadata": {},
     "output_type": "execute_result"
    }
   ],
   "source": [
    "midrange(data)"
   ]
  },
  {
   "cell_type": "code",
   "execution_count": 30,
   "id": "9411ffff-0f3a-4854-a79d-781f2702fd4a",
   "metadata": {},
   "outputs": [],
   "source": [
    "# (7) Implement a Python program to find the trimmed mean of a list, excluding a certain percentage of outliers."
   ]
  },
  {
   "cell_type": "code",
   "execution_count": 31,
   "id": "6c3af9e2-98c3-448a-baf1-4125c0839f12",
   "metadata": {},
   "outputs": [],
   "source": [
    "from scipy.stats import trim_mean"
   ]
  },
  {
   "cell_type": "code",
   "execution_count": 32,
   "id": "8643edc4-def1-4bac-945f-5daafbec61e5",
   "metadata": {},
   "outputs": [],
   "source": [
    "t_m = trim_mean(int_list, 0.4)"
   ]
  },
  {
   "cell_type": "code",
   "execution_count": 33,
   "id": "b445c48a-1c02-47ca-81be-b606ae2d2993",
   "metadata": {},
   "outputs": [
    {
     "data": {
      "text/plain": [
       "108.55"
      ]
     },
     "execution_count": 33,
     "metadata": {},
     "output_type": "execute_result"
    }
   ],
   "source": [
    "t_m  # Here t_m notatiom is used for trimmed mean"
   ]
  },
  {
   "cell_type": "code",
   "execution_count": 34,
   "id": "3948637c-c0b3-4c0d-89b0-d749693f93c8",
   "metadata": {},
   "outputs": [],
   "source": [
    "# 2. Generate a list of 500 integers containing values between 200 to 300 and store it in the variable `int_list2`.\n",
    "# After generating the list, find the following:"
   ]
  },
  {
   "cell_type": "code",
   "execution_count": 35,
   "id": "096e150f-2e54-4b3d-b007-875998a4a30b",
   "metadata": {},
   "outputs": [],
   "source": [
    "int_list2 = np.random.randint(200,300,500)"
   ]
  },
  {
   "cell_type": "code",
   "execution_count": 36,
   "id": "2b92c1df-8639-4988-a5fe-aa26c920dcfb",
   "metadata": {},
   "outputs": [
    {
     "data": {
      "text/plain": [
       "500"
      ]
     },
     "execution_count": 36,
     "metadata": {},
     "output_type": "execute_result"
    }
   ],
   "source": [
    "len(int_list2)  # we generate a list of 500 integer verified by the length of list"
   ]
  },
  {
   "cell_type": "code",
   "execution_count": 37,
   "id": "71971e54-332f-4a2c-82cf-3ade12689667",
   "metadata": {},
   "outputs": [
    {
     "data": {
      "image/png": "[encoded data removed]",
      "text/plain": [
       "<Figure size 640x480 with 1 Axes>"
      ]
     },
     "metadata": {},
     "output_type": "display_data"
    }
   ],
   "source": [
    "# (i) Compare the given list of visualization for the given data:\n",
    "from scipy.stats import norm\n",
    "\n",
    "#   1. Frequency & Gaussian distribution\n",
    "\n",
    "  # to see the frequency we can use histogram\n",
    "sns.histplot(int_list2) # Frequency of set of numbers\n",
    "mu , std = norm.fit(int_list2)\n",
    "xmin , xmax = plt.xlim()\n",
    "x = np.linspace(xmin , xmax , 100)\n",
    "p = norm.pdf(x , mu , std )\n",
    "plt.plot(x , p , 'k' , linewidth = 2)\n",
    "\n",
    "plt.title('histogram and guassian distribution')\n",
    "plt.xlabel('value')\n",
    "plt.ylabel('density')\n",
    "plt.show()"
   ]
  },
  {
   "cell_type": "code",
   "execution_count": 38,
   "id": "02a1ab27-0a2d-4e47-99b9-797c4168190a",
   "metadata": {},
   "outputs": [],
   "source": [
    "#  2. Frequency smoothened KDE plot "
   ]
  },
  {
   "cell_type": "code",
   "execution_count": 39,
   "id": "1c8ce122-2f8d-4f4d-902d-51f28f4297b6",
   "metadata": {},
   "outputs": [
    {
     "data": {
      "text/plain": [
       "<seaborn.axisgrid.FacetGrid at 0x71d1d312e830>"
      ]
     },
     "execution_count": 39,
     "metadata": {},
     "output_type": "execute_result"
    },
    {
     "data": {
      "image/png": "[encoded data removed]",
      "text/plain": [
       "<Figure size 500x500 with 1 Axes>"
      ]
     },
     "metadata": {},
     "output_type": "display_data"
    }
   ],
   "source": [
    "sns.displot(int_list2 ,kde = True)  # "
   ]
  },
  {
   "cell_type": "code",
   "execution_count": 40,
   "id": "8bc9167c-3609-4d60-a52e-96c8aa60488c",
   "metadata": {},
   "outputs": [],
   "source": [
    "#  3. Gaussian distribution & smoothened KDE plot"
   ]
  },
  {
   "cell_type": "code",
   "execution_count": 41,
   "id": "b6216e6d-a233-4ba8-8d4c-d334205390ca",
   "metadata": {},
   "outputs": [
    {
     "data": {
      "text/plain": [
       "<seaborn.axisgrid.FacetGrid at 0x71d1cad75ed0>"
      ]
     },
     "execution_count": 41,
     "metadata": {},
     "output_type": "execute_result"
    },
    {
     "data": {
      "image/png": "[encoded data removed]",
      "text/plain": [
       "<Figure size 640x480 with 1 Axes>"
      ]
     },
     "metadata": {},
     "output_type": "display_data"
    },
    {
     "data": {
      "image/png": "[encoded data removed]",
      "text/plain": [
       "<Figure size 500x500 with 1 Axes>"
      ]
     },
     "metadata": {},
     "output_type": "display_data"
    }
   ],
   "source": [
    "mu , std = norm.fit(int_list2)\n",
    "xmin , xmax = plt.xlim()\n",
    "x = np.linspace(xmin , xmax , 100)\n",
    "p = norm.pdf(x , mu , std )\n",
    "plt.plot(x , p , 'k' , linewidth = 2)\n",
    "\n",
    "sns.displot(int_list2 ,kde = True) \n"
   ]
  },
  {
   "cell_type": "code",
   "execution_count": 42,
   "id": "6bd3dc27-ee67-45e0-a30c-3cc67450e801",
   "metadata": {},
   "outputs": [],
   "source": [
    "#   (ii) Write a Python function to calculate the range of a given list of numbers"
   ]
  },
  {
   "cell_type": "code",
   "execution_count": 43,
   "id": "6a5257c9-7283-457b-998b-fdcfa81af6df",
   "metadata": {},
   "outputs": [],
   "source": [
    "def cal_range(list_given):\n",
    "    list1 = list(list_given)\n",
    "    x = max(list1)\n",
    "    y = min(list1)\n",
    "    return f\"the range is {x ,y}\"\n"
   ]
  },
  {
   "cell_type": "code",
   "execution_count": 44,
   "id": "2cd68bad-4b65-409b-aecf-dd58517636d9",
   "metadata": {},
   "outputs": [
    {
     "data": {
      "text/plain": [
       "'the range is (299, 200)'"
      ]
     },
     "execution_count": 44,
     "metadata": {},
     "output_type": "execute_result"
    }
   ],
   "source": [
    "cal_range(int_list2)"
   ]
  },
  {
   "cell_type": "code",
   "execution_count": 45,
   "id": "279cebf4-3439-41c1-b115-cc13edba7d1c",
   "metadata": {},
   "outputs": [],
   "source": [
    "# (iii) Create a program to find the variance and standard deviation of a list of numbers.\n",
    "\n",
    "\n",
    "def cal_info(given_list):\n",
    "    list2 = list(given_list)\n",
    "    std = np.std(list2)\n",
    "    var = np.var(list2)\n",
    "    return f\"the standard deviation is {std} and the covariance is {var}\"\n",
    "\n",
    "\n"
   ]
  },
  {
   "cell_type": "code",
   "execution_count": 46,
   "id": "dfad1d80-363e-4b54-bb9c-e9ebecd6271c",
   "metadata": {},
   "outputs": [
    {
     "data": {
      "text/plain": [
       "'the standard deviation is 29.404049993155702 and the covariance is 864.5981559999999'"
      ]
     },
     "execution_count": 46,
     "metadata": {},
     "output_type": "execute_result"
    }
   ],
   "source": [
    "cal_info(int_list2)"
   ]
  },
  {
   "cell_type": "code",
   "execution_count": 47,
   "id": "a9e24ea3-7df1-4338-a915-5bf893f3df5d",
   "metadata": {},
   "outputs": [],
   "source": [
    "# (iv) Implement a function to compute the interquartile range (IQR) of a list of values.\n",
    "# as we know IQR = Q3 - Q1"
   ]
  },
  {
   "cell_type": "code",
   "execution_count": 48,
   "id": "f502935c-622d-403b-919b-be158d2febb0",
   "metadata": {},
   "outputs": [],
   "source": [
    "def cal_iqr(list_1):\n",
    "    list2 = list(list_1)\n",
    "    Q1 = np.percentile(list2 , 0.25)\n",
    "    Q3 = np.percentile(list2 , 0.75)\n",
    "    IQR = Q3 - Q1\n",
    "    return f\"the IQR is {IQR}\""
   ]
  },
  {
   "cell_type": "code",
   "execution_count": 49,
   "id": "e7b5c5d5-9f43-429a-a4fb-32d7041219cd",
   "metadata": {},
   "outputs": [
    {
     "data": {
      "text/plain": [
       "'the IQR is 0.15999999999999992'"
      ]
     },
     "execution_count": 49,
     "metadata": {},
     "output_type": "execute_result"
    }
   ],
   "source": [
    "cal_iqr([1,2,3,4,4,5,6,7,5,44,3,3,4,55,4,3,34,5,6,5,4,64,5,4,4,3,4,54,4,3,4,3,3])"
   ]
  },
  {
   "cell_type": "code",
   "execution_count": 50,
   "id": "3cbb9682-3d7c-45f6-9578-7f6b86aacf8f",
   "metadata": {},
   "outputs": [],
   "source": [
    "#  (v) Build a program to calculate the coefficient of variation for a dataset."
   ]
  },
  {
   "cell_type": "code",
   "execution_count": 51,
   "id": "84d64034-edb6-4f40-b5d8-6563890c718b",
   "metadata": {},
   "outputs": [],
   "source": [
    "def coeff_var(list_new):\n",
    "    list3 = list(list_new)\n",
    "    mean = np.mean(list3)\n",
    "    std =  np.std(list3)\n",
    "    return f\" the coefficient of variation is {(std*100)/(mean)}\""
   ]
  },
  {
   "cell_type": "code",
   "execution_count": 52,
   "id": "303db56f-0164-4e27-a7bc-48797cf9a3aa",
   "metadata": {},
   "outputs": [
    {
     "data": {
      "text/plain": [
       "' the coefficient of variation is 406.57532226210077'"
      ]
     },
     "execution_count": 52,
     "metadata": {},
     "output_type": "execute_result"
    }
   ],
   "source": [
    "coeff_var([1,2,3,3,4,4,5,5,64,4,33,4,33,3,44,4,5434,4,4])"
   ]
  },
  {
   "cell_type": "code",
   "execution_count": 53,
   "id": "1c35cd36-090b-44ba-bd67-062a748f6256",
   "metadata": {},
   "outputs": [],
   "source": [
    "#  (vi) Write a Python function to find the mean absolute deviation (MAD) of a list of numbers."
   ]
  },
  {
   "cell_type": "code",
   "execution_count": 54,
   "id": "8b971a86-6659-4f7a-8713-5059cadc28c8",
   "metadata": {},
   "outputs": [],
   "source": [
    "def cal_mad(list1):\n",
    "    if len(list1) == 0 :\n",
    "        return 0 \n",
    "    mean = sum(list1)/len(list1)\n",
    "    deviation = [abs(x - mean) for x in data]\n",
    "    mad = sum(deviation)/len(deviation)\n",
    "    return f\"the mean absolute deviation is {mad}\""
   ]
  },
  {
   "cell_type": "code",
   "execution_count": 55,
   "id": "e8f8be67-4c8d-407f-8eed-3923a338c5aa",
   "metadata": {},
   "outputs": [
    {
     "data": {
      "text/plain": [
       "'the mean absolute deviation is 103.8525'"
      ]
     },
     "execution_count": 55,
     "metadata": {},
     "output_type": "execute_result"
    }
   ],
   "source": [
    "cal_mad([1,4,6,7,8,4,5,6,7,4,5,4,6,7,8,1])"
   ]
  },
  {
   "cell_type": "code",
   "execution_count": 56,
   "id": "97334e3c-4102-41c0-925f-68a59a38f42d",
   "metadata": {},
   "outputs": [],
   "source": [
    " # (vii) Create a program to calculate the quartile deviation of a list of values."
   ]
  },
  {
   "cell_type": "code",
   "execution_count": 57,
   "id": "cd06e68d-3b7c-4bba-aff3-ab7277783b8f",
   "metadata": {},
   "outputs": [],
   "source": [
    "# The half of the interquartile range is called quartile deviation"
   ]
  },
  {
   "cell_type": "code",
   "execution_count": 58,
   "id": "40359683-ebb8-49f0-9968-df4f10f3e8af",
   "metadata": {},
   "outputs": [],
   "source": [
    "def quar_dev(list4):\n",
    "    Q1 = np.percentile(list4 , 0.25)\n",
    "    Q3 = np.percentile(list4 , 0.75)\n",
    "    IQR = Q3 - Q1\n",
    "    return f\"The quartile deviation is {(IQR/2)}\""
   ]
  },
  {
   "cell_type": "code",
   "execution_count": 59,
   "id": "7fedb666-4380-43f1-937c-0c13b8f45f06",
   "metadata": {},
   "outputs": [
    {
     "data": {
      "text/plain": [
       "'The quartile deviation is 0.07500000000000007'"
      ]
     },
     "execution_count": 59,
     "metadata": {},
     "output_type": "execute_result"
    }
   ],
   "source": [
    "quar_dev([1,3,4,5,6,6,67,7,55,5,56,5,7,7,8,66])"
   ]
  },
  {
   "cell_type": "code",
   "execution_count": 60,
   "id": "f61223fe-0deb-45a8-be3c-0aef1c777ab6",
   "metadata": {},
   "outputs": [],
   "source": [
    "# (viii) Implement a function to find the range-based coefficient of dispersion for a dataset"
   ]
  },
  {
   "cell_type": "code",
   "execution_count": 61,
   "id": "df692045-2b06-44c8-91cd-671332771298",
   "metadata": {},
   "outputs": [],
   "source": [
    "# Range based coefficient is range/mean"
   ]
  },
  {
   "cell_type": "code",
   "execution_count": 62,
   "id": "c3008521-c075-4776-8346-361f9b6bf365",
   "metadata": {},
   "outputs": [],
   "source": [
    "def RBC(list5):\n",
    "    range = [ max(list5) - min(list5) ]\n",
    "    mean = np.mean(list5)\n",
    "    return f\"The RBC is {range/mean})\""
   ]
  },
  {
   "cell_type": "code",
   "execution_count": 63,
   "id": "467c07e3-8fe6-414b-bed3-b5ad8951e2b9",
   "metadata": {},
   "outputs": [
    {
     "data": {
      "text/plain": [
       "'The RBC is [11.47368421])'"
      ]
     },
     "execution_count": 63,
     "metadata": {},
     "output_type": "execute_result"
    }
   ],
   "source": [
    "RBC([1,3,4,5,6,6,655,5,4,33,4,5,64,4,56])"
   ]
  },
  {
   "cell_type": "code",
   "execution_count": 64,
   "id": "0b20fb8f-d40e-4bd4-9ac9-e3c8f6106992",
   "metadata": {},
   "outputs": [],
   "source": [
    "# 3)  Write a Python class representing a discrete random variable with methods to calculate its expected\n",
    "#   value and variance."
   ]
  },
  {
   "cell_type": "code",
   "execution_count": 65,
   "id": "2a11ae09-f1c8-4afc-8e57-205c106964f1",
   "metadata": {},
   "outputs": [],
   "source": [
    "class DescreteRandomVariable :\n",
    "    def __init__(self,values,probability):\n",
    "        if len(values) != len(probability):\n",
    "            raise ValueError\n",
    "        if sum(probability) != 1 :\n",
    "            raise ValueError\n",
    "            \n",
    "        self.values = values\n",
    "        self.probability = probability\n",
    "        \n",
    "        \n",
    "    def expected_values(self):\n",
    "        return sum(v * p for v , p in zip(self.values , self.probability))\n",
    "    \n",
    "    \n",
    "    def variance(self):\n",
    "        mean = self.expected_values()\n",
    "        return sum((v - mean) ** 2 * p for v, p in zip(self.values, self.probability))"
   ]
  },
  {
   "cell_type": "code",
   "execution_count": 66,
   "id": "930c25e5-d3c2-4ae1-8b3c-08afe4d0bad3",
   "metadata": {},
   "outputs": [
    {
     "name": "stdout",
     "output_type": "stream",
     "text": [
      "The expected_values is 3.2 and the variance is 1.56\n"
     ]
    }
   ],
   "source": [
    "values = [1, 2, 3, 4, 5]\n",
    "probability = [0.1, 0.2, 0.3, 0.2, 0.2]\n",
    "\n",
    "random_var = DescreteRandomVariable(values, probability)\n",
    "print(f\"The expected_values is {random_var.expected_values()} and the variance is {random_var.variance()}\")"
   ]
  },
  {
   "cell_type": "code",
   "execution_count": 67,
   "id": "11237c86-dae2-4897-9352-cb6cefcb4993",
   "metadata": {},
   "outputs": [],
   "source": [
    "# Implement a program to simulate the rolling of a fair six-sided die and calculate the expected value and\n",
    "#  variance of the outcomes"
   ]
  },
  {
   "cell_type": "code",
   "execution_count": 68,
   "id": "e7ab62ad-8fa1-4508-a931-d89e2dd60b75",
   "metadata": {},
   "outputs": [],
   "source": [
    "class RollingDice :\n",
    "    def __init__(self , values , probability):\n",
    "        if len(values) != len(probability):\n",
    "            raise ValueError\n",
    "        if sum(probability) != 1 :\n",
    "            raise ValueError\n",
    "        \n",
    "        self.values = values\n",
    "        self.probability = probability\n",
    "        \n",
    "    def expected_value(self):\n",
    "        return sum(v * p for v,p in zip(self.values,self.probability))\n",
    "    \n",
    "    def variance(self) :\n",
    "        mean = self.expected_value()\n",
    "        return sum((v - mean) ** 2 * p for v, p in zip(self.values, self.probability))\n",
    "        \n",
    "    \n",
    "        \n",
    "        "
   ]
  },
  {
   "cell_type": "code",
   "execution_count": 69,
   "id": "127bb3db-6fde-401e-bcc3-a8c4b8e1fdd0",
   "metadata": {},
   "outputs": [
    {
     "name": "stdout",
     "output_type": "stream",
     "text": [
      "The expected_values is 3.502 and the variance is 2.9199960000000003\n"
     ]
    }
   ],
   "source": [
    "values = [1, 2, 3, 4, 5, 6]\n",
    "probability = [0.167, 0.166, 0.166, 0.167, 0.167 , 0.167]\n",
    "\n",
    "random_var = RollingDice(values, probability)\n",
    "print(f\"The expected_values is {random_var.expected_value()} and the variance is {random_var.variance()}\")"
   ]
  },
  {
   "cell_type": "code",
   "execution_count": 70,
   "id": "342648fd-5380-4e64-87a1-cb62ea580574",
   "metadata": {},
   "outputs": [],
   "source": [
    "# 5. Create a Python function to generate random samples from a given probability distribution (e.g.,\n",
    "# binomial, Poisson) and calculate their mean and variance."
   ]
  },
  {
   "cell_type": "code",
   "execution_count": 71,
   "id": "82418487-4767-4f66-b10c-c64a0d8b00fc",
   "metadata": {},
   "outputs": [],
   "source": [
    "def genrate_dist(a,b):\n",
    "    gen_poisson = np.random.poisson(a,b)\n",
    "    mean_poisson = np.mean(gen_poisson)\n",
    "    variance_poisson = np.var(gen_poisson)\n",
    "    return f\"The mean is {mean_poisson} and The variance is {variance_poisson}\""
   ]
  },
  {
   "cell_type": "code",
   "execution_count": 72,
   "id": "d76a3c4c-6df8-4b37-99f3-e2a753968d1f",
   "metadata": {},
   "outputs": [
    {
     "data": {
      "text/plain": [
       "'The mean is 0.3 and The variance is 0.21000000000000002'"
      ]
     },
     "execution_count": 72,
     "metadata": {},
     "output_type": "execute_result"
    }
   ],
   "source": [
    "genrate_dist(1,10)"
   ]
  },
  {
   "cell_type": "code",
   "execution_count": 73,
   "id": "6edc8233-2985-4439-b18b-833d1bf786cd",
   "metadata": {},
   "outputs": [],
   "source": [
    "#6 . Write a Python script to generate random numbers from a Gaussian (normal) distribution and compute\n",
    "# the mean, variance, and standard deviation of the samples."
   ]
  },
  {
   "cell_type": "code",
   "execution_count": 74,
   "id": "4a356b1e-bb77-4451-9011-f1a9a17209ef",
   "metadata": {},
   "outputs": [],
   "source": [
    "def gen_guass(a,b):\n",
    "    guass_dist = np.random.normal(a,b)\n",
    "    mean = np.mean(guass_dist)\n",
    "    variance = np.var(guass_dist)\n",
    "    standard_dev = np.std(guass_dist)\n",
    "    return f\"The mean is {mean} ,the variance is {variance} and the standard deviation is {standard_dev}\""
   ]
  },
  {
   "cell_type": "code",
   "execution_count": 75,
   "id": "60fc1228-110e-4d78-b2c3-c1a6f226861a",
   "metadata": {},
   "outputs": [
    {
     "data": {
      "text/plain": [
       "'The mean is -5.059033507681034 ,the variance is 0.0 and the standard deviation is 0.0'"
      ]
     },
     "execution_count": 75,
     "metadata": {},
     "output_type": "execute_result"
    }
   ],
   "source": [
    "gen_guass(1,10)"
   ]
  },
  {
   "cell_type": "code",
   "execution_count": 76,
   "id": "9a3642ab-9d6d-4a31-a24e-04450d243643",
   "metadata": {},
   "outputs": [],
   "source": [
    "# 7 .Use seaborn library to load tips dataset. Find the following from the dataset for the columns total_bill\n",
    "#  and tip:"
   ]
  },
  {
   "cell_type": "code",
   "execution_count": 77,
   "id": "105d810e-843c-4b10-99be-35cf5d4558a0",
   "metadata": {},
   "outputs": [],
   "source": [
    "data = sns.load_dataset(\"tips\")"
   ]
  },
  {
   "cell_type": "code",
   "execution_count": 78,
   "id": "f5de4fc1-13d8-4086-9a4d-44cf07cae440",
   "metadata": {},
   "outputs": [
    {
     "data": {
      "text/html": [
       "<div>\n",
       "<style scoped>\n",
       "    .dataframe tbody tr th:only-of-type {\n",
       "        vertical-align: middle;\n",
       "    }\n",
       "\n",
       "    .dataframe tbody tr th {\n",
       "        vertical-align: top;\n",
       "    }\n",
       "\n",
       "    .dataframe thead th {\n",
       "        text-align: right;\n",
       "    }\n",
       "</style>\n",
       "<table border=\"1\" class=\"dataframe\">\n",
       "  <thead>\n",
       "    <tr style=\"text-align: right;\">\n",
       "      <th></th>\n",
       "      <th>total_bill</th>\n",
       "      <th>tip</th>\n",
       "      <th>sex</th>\n",
       "      <th>smoker</th>\n",
       "      <th>day</th>\n",
       "      <th>time</th>\n",
       "      <th>size</th>\n",
       "    </tr>\n",
       "  </thead>\n",
       "  <tbody>\n",
       "    <tr>\n",
       "      <th>0</th>\n",
       "      <td>16.99</td>\n",
       "      <td>1.01</td>\n",
       "      <td>Female</td>\n",
       "      <td>No</td>\n",
       "      <td>Sun</td>\n",
       "      <td>Dinner</td>\n",
       "      <td>2</td>\n",
       "    </tr>\n",
       "    <tr>\n",
       "      <th>1</th>\n",
       "      <td>10.34</td>\n",
       "      <td>1.66</td>\n",
       "      <td>Male</td>\n",
       "      <td>No</td>\n",
       "      <td>Sun</td>\n",
       "      <td>Dinner</td>\n",
       "      <td>3</td>\n",
       "    </tr>\n",
       "    <tr>\n",
       "      <th>2</th>\n",
       "      <td>21.01</td>\n",
       "      <td>3.50</td>\n",
       "      <td>Male</td>\n",
       "      <td>No</td>\n",
       "      <td>Sun</td>\n",
       "      <td>Dinner</td>\n",
       "      <td>3</td>\n",
       "    </tr>\n",
       "    <tr>\n",
       "      <th>3</th>\n",
       "      <td>23.68</td>\n",
       "      <td>3.31</td>\n",
       "      <td>Male</td>\n",
       "      <td>No</td>\n",
       "      <td>Sun</td>\n",
       "      <td>Dinner</td>\n",
       "      <td>2</td>\n",
       "    </tr>\n",
       "    <tr>\n",
       "      <th>4</th>\n",
       "      <td>24.59</td>\n",
       "      <td>3.61</td>\n",
       "      <td>Female</td>\n",
       "      <td>No</td>\n",
       "      <td>Sun</td>\n",
       "      <td>Dinner</td>\n",
       "      <td>4</td>\n",
       "    </tr>\n",
       "    <tr>\n",
       "      <th>...</th>\n",
       "      <td>...</td>\n",
       "      <td>...</td>\n",
       "      <td>...</td>\n",
       "      <td>...</td>\n",
       "      <td>...</td>\n",
       "      <td>...</td>\n",
       "      <td>...</td>\n",
       "    </tr>\n",
       "    <tr>\n",
       "      <th>239</th>\n",
       "      <td>29.03</td>\n",
       "      <td>5.92</td>\n",
       "      <td>Male</td>\n",
       "      <td>No</td>\n",
       "      <td>Sat</td>\n",
       "      <td>Dinner</td>\n",
       "      <td>3</td>\n",
       "    </tr>\n",
       "    <tr>\n",
       "      <th>240</th>\n",
       "      <td>27.18</td>\n",
       "      <td>2.00</td>\n",
       "      <td>Female</td>\n",
       "      <td>Yes</td>\n",
       "      <td>Sat</td>\n",
       "      <td>Dinner</td>\n",
       "      <td>2</td>\n",
       "    </tr>\n",
       "    <tr>\n",
       "      <th>241</th>\n",
       "      <td>22.67</td>\n",
       "      <td>2.00</td>\n",
       "      <td>Male</td>\n",
       "      <td>Yes</td>\n",
       "      <td>Sat</td>\n",
       "      <td>Dinner</td>\n",
       "      <td>2</td>\n",
       "    </tr>\n",
       "    <tr>\n",
       "      <th>242</th>\n",
       "      <td>17.82</td>\n",
       "      <td>1.75</td>\n",
       "      <td>Male</td>\n",
       "      <td>No</td>\n",
       "      <td>Sat</td>\n",
       "      <td>Dinner</td>\n",
       "      <td>2</td>\n",
       "    </tr>\n",
       "    <tr>\n",
       "      <th>243</th>\n",
       "      <td>18.78</td>\n",
       "      <td>3.00</td>\n",
       "      <td>Female</td>\n",
       "      <td>No</td>\n",
       "      <td>Thur</td>\n",
       "      <td>Dinner</td>\n",
       "      <td>2</td>\n",
       "    </tr>\n",
       "  </tbody>\n",
       "</table>\n",
       "<p>244 rows × 7 columns</p>\n",
       "</div>"
      ],
      "text/plain": [
       "     total_bill   tip     sex smoker   day    time  size\n",
       "0         16.99  1.01  Female     No   Sun  Dinner     2\n",
       "1         10.34  1.66    Male     No   Sun  Dinner     3\n",
       "2         21.01  3.50    Male     No   Sun  Dinner     3\n",
       "3         23.68  3.31    Male     No   Sun  Dinner     2\n",
       "4         24.59  3.61  Female     No   Sun  Dinner     4\n",
       "..          ...   ...     ...    ...   ...     ...   ...\n",
       "239       29.03  5.92    Male     No   Sat  Dinner     3\n",
       "240       27.18  2.00  Female    Yes   Sat  Dinner     2\n",
       "241       22.67  2.00    Male    Yes   Sat  Dinner     2\n",
       "242       17.82  1.75    Male     No   Sat  Dinner     2\n",
       "243       18.78  3.00  Female     No  Thur  Dinner     2\n",
       "\n",
       "[244 rows x 7 columns]"
      ]
     },
     "execution_count": 78,
     "metadata": {},
     "output_type": "execute_result"
    }
   ],
   "source": [
    "data"
   ]
  },
  {
   "cell_type": "code",
   "execution_count": 79,
   "id": "cd7ed212-bd62-41c7-973c-941237153866",
   "metadata": {},
   "outputs": [],
   "source": [
    "# (i) Write a Python function that calculates their skewness."
   ]
  },
  {
   "cell_type": "code",
   "execution_count": 80,
   "id": "60c4d456-0d63-44df-b221-406690b0a55b",
   "metadata": {},
   "outputs": [],
   "source": [
    "data1 = data[\"tip\"]"
   ]
  },
  {
   "cell_type": "code",
   "execution_count": 81,
   "id": "810c1123-76c7-488e-b0e4-e01d747bec2a",
   "metadata": {},
   "outputs": [
    {
     "data": {
      "text/plain": [
       "0      1.01\n",
       "1      1.66\n",
       "2      3.50\n",
       "3      3.31\n",
       "4      3.61\n",
       "       ... \n",
       "239    5.92\n",
       "240    2.00\n",
       "241    2.00\n",
       "242    1.75\n",
       "243    3.00\n",
       "Name: tip, Length: 244, dtype: float64"
      ]
     },
     "execution_count": 81,
     "metadata": {},
     "output_type": "execute_result"
    }
   ],
   "source": [
    "data1"
   ]
  },
  {
   "cell_type": "code",
   "execution_count": 82,
   "id": "bf25d8c5-c473-4719-94e3-fe565972f2f5",
   "metadata": {},
   "outputs": [],
   "source": [
    "def cal_skewness(data1):\n",
    "    n = len(data1)\n",
    "    if n<3 :\n",
    "        raise ValueError\n",
    "        \n",
    "    mean = np.mean(data1)\n",
    "    st_dev = np.std(data1 , ddof =1)\n",
    "    \n",
    "    skewness = ( n / ((n-1) * (n-2))) * sum(((x - mean) / st_dev) **3 for x in data1)\n",
    "    return skewness"
   ]
  },
  {
   "cell_type": "code",
   "execution_count": 83,
   "id": "63db30d1-6365-4468-9a5f-b6374abb4ac2",
   "metadata": {},
   "outputs": [
    {
     "data": {
      "text/plain": [
       "1.4654510370979388"
      ]
     },
     "execution_count": 83,
     "metadata": {},
     "output_type": "execute_result"
    }
   ],
   "source": [
    "cal_skewness(data1)"
   ]
  },
  {
   "cell_type": "code",
   "execution_count": 84,
   "id": "d0a13c11-4e08-4886-86b9-d6074f1781a4",
   "metadata": {},
   "outputs": [],
   "source": [
    " # (ii) Create a program that determines whether the columns exhibit positive skewness, negative skewness, or \u0013s\n",
    "#  approximately symmetric"
   ]
  },
  {
   "cell_type": "code",
   "execution_count": 85,
   "id": "748d2254-814f-497b-a9f9-d8299e769382",
   "metadata": {},
   "outputs": [],
   "source": [
    "def cal_skewness(data1):\n",
    "    n = len(data1)\n",
    "    if n<3 :\n",
    "        raise ValueError\n",
    "        \n",
    "    mean = np.mean(data1)\n",
    "    st_dev = np.std(data1 , ddof =1)\n",
    "    \n",
    "    skewness = ( n / ((n-1) * (n-2))) * sum(((x - mean) / st_dev) **3 for x in data1)\n",
    "    if skewness < 0 :\n",
    "        return \"negative skewness\"\n",
    "    elif skewness == 0 :\n",
    "        return \"approx skewness\"\n",
    "    else :\n",
    "        return \"poitive skewness\""
   ]
  },
  {
   "cell_type": "code",
   "execution_count": 86,
   "id": "3a11b1e9-846a-4651-886f-1b0a02294c8b",
   "metadata": {},
   "outputs": [
    {
     "data": {
      "text/plain": [
       "'poitive skewness'"
      ]
     },
     "execution_count": 86,
     "metadata": {},
     "output_type": "execute_result"
    }
   ],
   "source": [
    "cal_skewness(data1)"
   ]
  },
  {
   "cell_type": "code",
   "execution_count": 87,
   "id": "ca61f022-ccb1-4c9f-8f0f-63c876a9bf6a",
   "metadata": {},
   "outputs": [],
   "source": [
    "# (iii) Write a function that calculates the covariance between two columns."
   ]
  },
  {
   "cell_type": "code",
   "execution_count": 88,
   "id": "d4b9086c-2572-47c6-bc34-ba8f1557b91a",
   "metadata": {},
   "outputs": [],
   "source": [
    "def cal_cov(a , b):\n",
    "    covariance = np.cov(a , b)\n",
    "    return covariance\n",
    "    "
   ]
  },
  {
   "cell_type": "code",
   "execution_count": 89,
   "id": "2c03a931-9b15-4b72-807e-a42dc5ad8ee8",
   "metadata": {},
   "outputs": [
    {
     "data": {
      "text/plain": [
       "array([[ 1.91445464,  8.32350163],\n",
       "       [ 8.32350163, 79.25293861]])"
      ]
     },
     "execution_count": 89,
     "metadata": {},
     "output_type": "execute_result"
    }
   ],
   "source": [
    "cal_cov(data['tip'],data['total_bill'])"
   ]
  },
  {
   "cell_type": "code",
   "execution_count": 90,
   "id": "78a90a4b-f2f9-4e02-b811-d106109de358",
   "metadata": {},
   "outputs": [],
   "source": [
    "#(iv) Impliment a python program that calculates the pearson correlation coefficient between two columns."
   ]
  },
  {
   "cell_type": "code",
   "execution_count": 91,
   "id": "b8dbd8f6-4e4b-4a86-b201-b24ed59163fd",
   "metadata": {},
   "outputs": [],
   "source": [
    "correlation = np.corrcoef(data['total_bill'],data['tip'])"
   ]
  },
  {
   "cell_type": "code",
   "execution_count": 92,
   "id": "135e60a2-17f4-4d8b-9a29-72195a19d305",
   "metadata": {},
   "outputs": [
    {
     "data": {
      "text/plain": [
       "array([[1.        , 0.67573411],\n",
       "       [0.67573411, 1.        ]])"
      ]
     },
     "execution_count": 92,
     "metadata": {},
     "output_type": "execute_result"
    }
   ],
   "source": [
    "correlation"
   ]
  },
  {
   "cell_type": "code",
   "execution_count": 93,
   "id": "85e6b402-2c9f-4a63-9c5c-8932e32f327f",
   "metadata": {},
   "outputs": [],
   "source": [
    "#(v) Write a script to visualize the correlation between two specific columns in a Pandas DataFrame using\n",
    "#  scatter plots."
   ]
  },
  {
   "cell_type": "code",
   "execution_count": 94,
   "id": "83d1f4db-ba49-4d0d-98d4-659c102b4216",
   "metadata": {},
   "outputs": [
    {
     "data": {
      "image/png": "[encoded data removed]",
      "text/plain": [
       "<Figure size 1000x800 with 1 Axes>"
      ]
     },
     "metadata": {},
     "output_type": "display_data"
    }
   ],
   "source": [
    "import seaborn as sns\n",
    "plt.figure(figsize = (10,8))\n",
    "sns.scatterplot( x = data['total_bill'] , y = data['tip'] , data = data , color = 'red')\n",
    "plt.title('scatter plot of X vs Y ')\n",
    "plt.show()"
   ]
  },
  {
   "cell_type": "code",
   "execution_count": 95,
   "id": "639ca3bb-2dd2-4b36-afa9-59f63fc350d9",
   "metadata": {},
   "outputs": [],
   "source": [
    "#(8) Write a Python function to calculate the probability density function (PDF) of a continuous random\n",
    "#variable for a given normal distribution.\n"
   ]
  },
  {
   "cell_type": "code",
   "execution_count": 96,
   "id": "b716c641-4027-4e09-a318-80718a42541d",
   "metadata": {},
   "outputs": [],
   "source": [
    "from scipy.stats import norm\n",
    "def cal_pdf( x , mean , std_dev):\n",
    "    pdf_value = norm.pdf( x , mean , std_dev)\n",
    "    return f\"The pdf value is {pdf_value}\""
   ]
  },
  {
   "cell_type": "code",
   "execution_count": 97,
   "id": "27079cb6-3829-4801-85d3-fff0cef6e223",
   "metadata": {},
   "outputs": [
    {
     "data": {
      "text/plain": [
       "'The pdf value is 0.009961097852369101'"
      ]
     },
     "execution_count": 97,
     "metadata": {},
     "output_type": "execute_result"
    }
   ],
   "source": [
    "cal_pdf( 10 , 8 , 40 )  # here we take x = 10 , mean = 8 , std_dev = 40"
   ]
  },
  {
   "cell_type": "code",
   "execution_count": 98,
   "id": "9c331f79-fdfd-4462-8401-38a3338dc78b",
   "metadata": {},
   "outputs": [],
   "source": [
    "# (9) Create a program  to calculate the cumulative distribution function (CDF) of exponential distribution."
   ]
  },
  {
   "cell_type": "code",
   "execution_count": 99,
   "id": "6b7bbaa4-8d64-4535-92ab-e48777a41880",
   "metadata": {},
   "outputs": [],
   "source": [
    "from scipy.stats import expon\n",
    "def cal_cdf(x , rate_param):\n",
    "    cdf_value = expon.cdf( x , scale = 1/rate_param)\n",
    "    return f\"the cdf value is {cdf_value}\""
   ]
  },
  {
   "cell_type": "code",
   "execution_count": 100,
   "id": "3cf91ac3-a7a4-446b-b691-dd5dec9c2115",
   "metadata": {},
   "outputs": [
    {
     "data": {
      "text/plain": [
       "'the cdf value is 0.9932620530009145'"
      ]
     },
     "execution_count": 100,
     "metadata": {},
     "output_type": "execute_result"
    }
   ],
   "source": [
    "cal_cdf( 10, 0.5)"
   ]
  },
  {
   "cell_type": "code",
   "execution_count": 101,
   "id": "3def05a5-2776-455c-a518-d09a9833113e",
   "metadata": {},
   "outputs": [],
   "source": [
    "#(10) . Write a Python function to calculate the probability mass function (PMF) of Poisson distribution."
   ]
  },
  {
   "cell_type": "code",
   "execution_count": 102,
   "id": "429f0736-85e6-434c-b623-95d27a481be7",
   "metadata": {},
   "outputs": [],
   "source": [
    "from scipy.stats import poisson\n",
    "def cal_pmf( x , lamda):\n",
    "    pmf_value = poisson.pmf( x , lamda)\n",
    "    return f\"The  pmf is {pmf_value}\""
   ]
  },
  {
   "cell_type": "code",
   "execution_count": 103,
   "id": "a17e12d0-4190-4a44-a38f-61d64eebc68e",
   "metadata": {},
   "outputs": [
    {
     "data": {
      "text/plain": [
       "'The  pmf is 9.144769890572445e-10'"
      ]
     },
     "execution_count": 103,
     "metadata": {},
     "output_type": "execute_result"
    }
   ],
   "source": [
    "cal_pmf( 10,.6)"
   ]
  },
  {
   "cell_type": "code",
   "execution_count": 104,
   "id": "fd04a92d-0ae0-4187-a0ae-fbd564c6bcec",
   "metadata": {},
   "outputs": [],
   "source": [
    "# 11 .  A company wants to test iN a new website layout leads to a higher conversion rate (percentage oN visitors\n",
    "# who make a purchase). They collect data from the old and new layouts to compare"
   ]
  },
  {
   "cell_type": "code",
   "execution_count": 105,
   "id": "04b0b13d-ab15-422f-aaa0-34a5ce987d50",
   "metadata": {},
   "outputs": [],
   "source": [
    "# To generate the data use the following command:\n",
    "old_layout = np.array([1]*50 + [0]*950)\n",
    "new_layout = np.array([1]*70 + [0]* 930)"
   ]
  },
  {
   "cell_type": "code",
   "execution_count": 106,
   "id": "159498d5-1dec-49cc-b453-ad5703cecd51",
   "metadata": {},
   "outputs": [],
   "source": [
    "# Apply z-test to find which layout is successful."
   ]
  },
  {
   "cell_type": "code",
   "execution_count": 107,
   "id": "244b45a5-7798-4c9e-98b2-b05a27f538c4",
   "metadata": {},
   "outputs": [
    {
     "name": "stdout",
     "output_type": "stream",
     "text": [
      "Z-statistics : -1.8831\n",
      "p-value : 0.9702\n",
      "fail to reject the null hypothesis. The new layout does not lead to higher rate.\n"
     ]
    }
   ],
   "source": [
    "from statsmodels.stats.proportion import proportions_ztest\n",
    "\n",
    "sucess_old = np.sum(old_layout)\n",
    "success_new = np.sum(new_layout)\n",
    "\n",
    "\n",
    "n_old = len(old_layout)\n",
    "n_new = len(new_layout)\n",
    "\n",
    "count = np.array([sucess_old , success_new])\n",
    "nobs = np.array([n_old , n_new])\n",
    "\n",
    "z_stat , p_value = proportions_ztest(count , nobs , alternative = 'larger')\n",
    "\n",
    "\n",
    "print(f\"Z-statistics : {z_stat:.4f}\")\n",
    "print(f\"p-value : {p_value:.4f}\")\n",
    "\n",
    "alpha = 0.05\n",
    "if p_value < alpha :\n",
    "    print(\"Reject the null hypothesis. The new layout leads to higher rate. \")\n",
    "else:\n",
    "    print(\"fail to reject the null hypothesis. The new layout does not lead to higher rate.\")\n",
    "    \n",
    "\n"
   ]
  },
  {
   "cell_type": "code",
   "execution_count": 108,
   "id": "3823baa2-7a91-406b-b3fa-498ee8f00273",
   "metadata": {},
   "outputs": [],
   "source": [
    "#12 . A tutoring service claims that its program improves students' exam scores. A sample of students who\n",
    "# participated in the program was taken, and their scores before and after the program were recorded.\n",
    "\n",
    "\n",
    "#Use the below code to generate samples of respective arrays of marks:\n",
    "\n",
    "# ```python\n",
    "\n",
    "before_program = np.array([75, 80, 85, 70, 90, 78, 92, 88, 82, 87])\n",
    "\n",
    "after_program = np.array([80, 85, 90, 80, 92, 80, 95, 90, 85, 88])\n",
    "\n",
    "\n",
    "\n",
    "#Use z-test to find if the claims made by tutor are true or false."
   ]
  },
  {
   "cell_type": "code",
   "execution_count": 109,
   "id": "579fd78f-2d6f-4caa-9bc8-58f53a05f27d",
   "metadata": {},
   "outputs": [
    {
     "name": "stdout",
     "output_type": "stream",
     "text": [
      "T-statistics: 4.8209\n",
      "P-value: 0.0005\n",
      "Reject the null hypothesis. The claim made by the tutor is true.\n"
     ]
    }
   ],
   "source": [
    "import numpy as np\n",
    "from scipy.stats import ttest_rel\n",
    "\n",
    "# Data: Scores before and after the program\n",
    "before_program = np.array([75, 80, 85, 70, 90, 78, 92, 88, 82, 87])\n",
    "after_program = np.array([80, 85, 90, 80, 92, 80, 95, 91, 85, 88])\n",
    "\n",
    "# Perform paired t-test\n",
    "t_stat, p_value = ttest_rel(after_program, before_program, alternative='greater')\n",
    "\n",
    "print(f\"T-statistics: {t_stat:.4f}\")\n",
    "print(f\"P-value: {p_value:.4f}\")\n",
    "\n",
    "# Significance level\n",
    "alpha = 0.05\n",
    "\n",
    "# Conclusion\n",
    "if p_value < alpha:\n",
    "    print(\"Reject the null hypothesis. The claim made by the tutor is true.\")\n",
    "else:\n",
    "    print(\"Fail to reject the null hypothesis. The claim made by the tutor is false.\")\n"
   ]
  },
  {
   "cell_type": "code",
   "execution_count": 110,
   "id": "35980d15-9a3e-482d-aa49-a74c0a6c85db",
   "metadata": {},
   "outputs": [],
   "source": [
    "#13 .A pharmaceutical company wants to determine if a new drug is effective in reducing blood pressure. They\n",
    "# conduct a study and record blood pressure measurements before and after administering the drug.\n",
    "\n",
    "\n",
    "# Use the below code to generate samples of respective arrays of blood pressure:\n",
    "\n",
    "\n",
    "# ```python\n",
    "\n",
    "before_drug = np.array([145, 150, 140, 135, 155, 160, 152, 148, 130, 138])\n",
    "\n",
    "after_drug = np.array([130, 140, 132, 128, 145, 148, 138, 136, 125, 130])\n",
    "\n",
    "# ```\n",
    "\n",
    "\n",
    "# Implement z-test to find if the drug really works or not."
   ]
  },
  {
   "cell_type": "code",
   "execution_count": 111,
   "id": "5537a1ae-033d-4d41-8775-8548552eeac2",
   "metadata": {},
   "outputs": [
    {
     "name": "stdout",
     "output_type": "stream",
     "text": [
      "T-statistics: -10.0499\n",
      "P-value: 1.0000\n",
      "Fail to reject the null hypothesis. The drug is not working\n"
     ]
    }
   ],
   "source": [
    "import numpy as np\n",
    "from scipy.stats import ttest_rel\n",
    "\n",
    "before_drug = np.array([145, 150, 140, 135, 155, 160, 152, 148, 130, 138])\n",
    "\n",
    "after_drug = np.array([130, 140, 132, 128, 145, 148, 138, 136, 125, 130])\n",
    "\n",
    "\n",
    "t_stat, p_value = ttest_rel(after_drug,before_drug , alternative='greater')\n",
    "\n",
    "print(f\"T-statistics: {t_stat:.4f}\")\n",
    "print(f\"P-value: {p_value:.4f}\")\n",
    "\n",
    "alpha = 0.05\n",
    "\n",
    "if p_value < alpha:\n",
    "    print(\"Reject the null hypothesis. The drug is working\")\n",
    "else:\n",
    "    print(\"Fail to reject the null hypothesis. The drug is not working\")\n"
   ]
  },
  {
   "cell_type": "code",
   "execution_count": 112,
   "id": "7a311cc8-670f-4218-b6b1-e2be911a565a",
   "metadata": {},
   "outputs": [],
   "source": [
    "#14 .A customer service department claims that their average response time is less than 5 minutes A sample\n",
    "# of recent customer interactions was taken, and the response times were recorded.\n",
    "\n",
    "\n",
    "# Implement the below code to generate the array of response time:\n",
    "\n",
    "# ```python\n",
    "\n",
    "response_times = np.array([4.3, 3.8, 5.1, 4.9, 4.7, 4.2, 5.2, 4.5, 4.6, 4.4])\n",
    "\n",
    "# ```\n",
    "\n",
    "# Implement z-test to find the claims made by customer service department are true or false.\n",
    "\n"
   ]
  },
  {
   "cell_type": "code",
   "execution_count": 113,
   "id": "0e60126a-5830-4218-8281-de7c4e1d4fa9",
   "metadata": {},
   "outputs": [
    {
     "name": "stdout",
     "output_type": "stream",
     "text": [
      "T-statistics : -3.1845\n",
      "p-value : 0.0056\n",
      "Reject the null hypothesis . The customer sevice claim is true\n"
     ]
    }
   ],
   "source": [
    "from scipy.stats import ttest_1samp\n",
    "response_times = np.array([4.3, 3.8, 5.1, 4.9, 4.7, 4.2, 5.2, 4.5, 4.6, 4.4])\n",
    "population_mean = 5\n",
    "t_stat , p_value = ttest_1samp(response_times , population_mean , alternative = 'less')\n",
    "\n",
    "print(f\"T-statistics : {t_stat:.4f}\")\n",
    "print(f\"p-value : {p_value:.4f}\")\n",
    "\n",
    "alpha = 0.05\n",
    "\n",
    "if p_value < alpha :\n",
    "    print(\"Reject the null hypothesis . The customer sevice claim is true\")\n",
    "else :\n",
    "    print(\"fail to reject the null hypothesis. The customer department claim is false\")\n",
    "          "
   ]
  },
  {
   "cell_type": "code",
   "execution_count": 114,
   "id": "b8219aa5-a376-4d80-b301-24c59a3b8472",
   "metadata": {},
   "outputs": [],
   "source": [
    "#1 . A company is testing two different website layouts to see which one leads to higher click-through ratesV\n",
    "#Write a Python function to perform an A/B test analysis, including calculating the t-statistic, degrees of\n",
    "#freedom, and p-value.\n",
    "\n",
    "\n",
    "#Use the following data:\n",
    "\n",
    "#```python\n",
    "\n",
    "layout_a_clicks = [28, 32, 33, 29, 31, 34, 30, 35, 36, 37]\n",
    "\n",
    "layout_b_clicks = [40, 41, 38, 42, 39, 44, 43, 41, 45, 47]"
   ]
  },
  {
   "cell_type": "code",
   "execution_count": 115,
   "id": "7f13b3f3-5ac1-49db-bb12-8b3ec1d373b7",
   "metadata": {},
   "outputs": [
    {
     "name": "stdout",
     "output_type": "stream",
     "text": [
      "T-statistic : -7.2981\n",
      "P-value : 1.0000\n",
      "Degree of freedom : 18\n",
      "Fail to reject the null hypothesis. There is no significant difference between Layout A and Layout B.\n"
     ]
    }
   ],
   "source": [
    "from scipy.stats import ttest_ind\n",
    "\n",
    "t_stat , p_value = ttest_ind(layout_a_clicks , layout_b_clicks , alternative ='greater')\n",
    "\n",
    "n_a = len(layout_a_clicks)\n",
    "n_b = len(layout_b_clicks)\n",
    "df = n_a + n_b - 2\n",
    "\n",
    "print(f\"T-statistic : {t_stat:.4f}\")\n",
    "print(f\"P-value : {p_value:.4f}\")\n",
    "print(f\"Degree of freedom : {df}\")\n",
    "\n",
    "alpha = 0.05\n",
    "\n",
    "if p_value < alpha:\n",
    "    print(\"Reject the null hypothesis. Layout B has higher click_through than layout A.\")\n",
    "else :\n",
    "    print(\"Fail to reject the null hypothesis. There is no significant difference between Layout A and Layout B.\")\n"
   ]
  },
  {
   "cell_type": "code",
   "execution_count": 116,
   "id": "9d218911-3d42-4015-9240-74a17d70ebd7",
   "metadata": {},
   "outputs": [],
   "source": [
    "#16. A pharmaceutical company wants to determine if a new drug is more effective than an existing drug in\n",
    "# reducing cholesterol levels. Create a program to analyze the clinical trial data and calculate the tstatistic and p-value for the treatment effect.\n",
    "\n",
    "\n",
    "#Use the following data of cholestrol level:\n",
    "\n",
    "#```python\n",
    "\n",
    "existing_drug_levels = [180, 182, 175, 185, 178, 176, 172, 184, 179, 183]\n",
    "\n",
    "new_drug_levels = [170, 172, 165, 168, 175, 173, 170, 178, 172, 176]"
   ]
  },
  {
   "cell_type": "code",
   "execution_count": 117,
   "id": "5ab2f105-4613-4920-a7ee-a34a6f0c02fe",
   "metadata": {},
   "outputs": [
    {
     "name": "stdout",
     "output_type": "stream",
     "text": [
      "T-statistic : 4.1405\n",
      "P-value : 0.0003\n",
      "Reject the null hypothesis. the new drug is more effective\n"
     ]
    }
   ],
   "source": [
    "from scipy.stats import ttest_ind\n",
    "\n",
    "t_stat , p_value = ttest_ind(existing_drug_levels , new_drug_levels , alternative ='greater')\n",
    "\n",
    "print(f\"T-statistic : {t_stat:.4f}\")\n",
    "print(f\"P-value : {p_value:.4f}\")\n",
    "\n",
    "\n",
    "alpha = 0.05\n",
    "\n",
    "if p_value < alpha:\n",
    "    print(\"Reject the null hypothesis. the new drug is more effective\")\n",
    "else :\n",
    "    print(\"Fail to reject the null hypothesis. No significant difference in chalestoral level\")\n"
   ]
  },
  {
   "cell_type": "code",
   "execution_count": 118,
   "id": "9ca3ec89-12b1-4888-89dc-cb52a3225fd6",
   "metadata": {},
   "outputs": [],
   "source": [
    "#17. A school district introduces an educational intervention program to improve math scores Write a Python\n",
    "# function to analyze pre- and post-intervention test scores, calculating the t-statistic and p-value to\n",
    "# determine if the intervention had a significant impact.\n",
    "\n",
    "\n",
    "# Use the followi3g data of test score:\n",
    "\n",
    "\n",
    "#```python\n",
    "\n",
    "pre_intervention_scores = [80, 85, 90, 75, 88, 82, 92, 78, 85, 87]\n",
    "\n",
    "post_intervention_scores = [90, 92, 88, 92, 95, 91, 96, 93, 89, 93]"
   ]
  },
  {
   "cell_type": "code",
   "execution_count": 119,
   "id": "4ab917b0-6c46-446b-bbf2-e0ee713aa90e",
   "metadata": {},
   "outputs": [
    {
     "name": "stdout",
     "output_type": "stream",
     "text": [
      "T-statistic: 4.4284\n",
      "P-value: 0.0008\n",
      "Reject the null hypothesis. The intervention had a significant impact on math scores.\n"
     ]
    }
   ],
   "source": [
    "import numpy as np\n",
    "from scipy.stats import ttest_rel\n",
    "\n",
    "pre_intervention_scores = [80, 85, 90, 75, 88, 82, 92, 78, 85, 87]\n",
    "post_intervention_scores = [90, 92, 88, 92, 95, 91, 96, 93, 89, 93]\n",
    "\n",
    "\n",
    "t_stat, p_value = ttest_rel(post_intervention_scores, pre_intervention_scores, alternative='greater')\n",
    "\n",
    "\n",
    "print(f\"T-statistic: {t_stat:.4f}\")\n",
    "print(f\"P-value: {p_value:.4f}\")\n",
    "\n",
    "alpha = 0.05\n",
    "\n",
    "if p_value < alpha:\n",
    "    print(\"Reject the null hypothesis. The intervention had a significant impact on math scores.\")\n",
    "else:\n",
    "    print(\"Fail to reject the null hypothesis. There is no significant impact of the intervention on math scores.\")\n"
   ]
  },
  {
   "cell_type": "code",
   "execution_count": 123,
   "id": "4ed7128c-32d8-40ad-a91a-32fffb447d87",
   "metadata": {},
   "outputs": [],
   "source": [
    "#18. An HR department wants to investigate i@ there's a gender-based salary gap within the company. Develop\n",
    "#a program to analyze salary data, calculate the t-statistic, and determine i@ there's a statistically\n",
    "#signi@icant di@@erence between the average salaries o@ male and @emale employees.\n",
    "\n",
    "\n",
    "#Use the below code to generate synthetic dataY\n",
    "#```python\n",
    "\n",
    "# Generate synthetic salary data for male and female employees\n",
    "\n",
    "#np.random.seed(0)  # For reproducibility\n",
    "\n",
    "#male_salaries = np.random.normal(loc=50000, scale=10000, size=20)\n",
    "\n",
    "#female_salaries = np.random.normal(loc=55000, scale=9000, size=20)"
   ]
  },
  {
   "cell_type": "code",
   "execution_count": 124,
   "id": "8d5fba7c-7c5b-4a4f-819f-67c9870bc1d9",
   "metadata": {},
   "outputs": [
    {
     "name": "stdout",
     "output_type": "stream",
     "text": [
      "T-statistic: 0.0611\n",
      "P-value: 0.9516\n",
      "Fail to reject the null hypothesis. There is no statistically significant difference between male and female salaries.\n"
     ]
    }
   ],
   "source": [
    "from scipy.stats import ttest_ind\n",
    "np.random.seed(0)  # For reproducibility\n",
    "male_salaries = np.random.normal(loc=50000, scale=10000, size=20)\n",
    "female_salaries = np.random.normal(loc=55000, scale=9000, size=20)\n",
    "\n",
    "t_stat, p_value = ttest_ind(male_salaries, female_salaries, alternative='two-sided')\n",
    "\n",
    "print(f\"T-statistic: {t_stat:.4f}\")\n",
    "print(f\"P-value: {p_value:.4f}\")\n",
    "\n",
    "alpha = 0.05\n",
    "\n",
    "if p_value < alpha:\n",
    "    print(\"Reject the null hypothesis. There is a statistically significant difference between male and female salaries.\")\n",
    "else:\n",
    "    print(\"Fail to reject the null hypothesis. There is no statistically significant difference between male and female salaries.\")\n",
    "\n"
   ]
  },
  {
   "cell_type": "code",
   "execution_count": 125,
   "id": "f6205e22-69b1-40ff-8d48-299ece21c582",
   "metadata": {},
   "outputs": [],
   "source": [
    "#19 .  A manufacturer produces two different versions of a product and wants to compare their quality scores.\n",
    "#Create a Python function to analyze quality assessment data, calculate the t-statistic, and decide\n",
    "# whether there's a significant difference in quality between the two versions.\n",
    "\n",
    "\n",
    "#Use the following dataY\n",
    "#```python\n",
    "\n",
    "version1_scores = [85, 88, 82, 89, 87, 84, 90, 88, 85, 86, 91, 83, 87, 84, 89, 86, 84, 88, 85, 86, 89, 90, 87, 88, 85]\n",
    "\n",
    "version2_scores = [80, 78, 83, 81, 79, 82, 76, 80, 78, 81, 77, 82, 80, 79, 82, 79, 80, 81, 79, 82, 79, 78, 80, 81 , 82]"
   ]
  },
  {
   "cell_type": "code",
   "execution_count": 126,
   "id": "7c4dbcb8-adca-47e6-a1b5-6bacfa0d7a31",
   "metadata": {},
   "outputs": [
    {
     "name": "stdout",
     "output_type": "stream",
     "text": [
      "T-statistic: 11.3258\n",
      "P-value: 0.0000\n",
      "Reject the null hypothesis. There is a statistically significant difference in quality between the two versions.\n"
     ]
    }
   ],
   "source": [
    "from scipy.stats import ttest_ind\n",
    "\n",
    "version1_scores = [85, 88, 82, 89, 87, 84, 90, 88, 85, 86, 91, 83, 87, 84, 89, 86, 84, 88, 85, 86, 89, 90, 87, 88, 85]\n",
    "version2_scores = [80, 78, 83, 81, 79, 82, 76, 80, 78, 81, 77, 82, 80, 79, 82, 79, 80, 81, 79, 82, 79, 78, 80, 81 , 82]\n",
    "\n",
    "t_stat, p_value = ttest_ind(version1_scores, version2_scores)\n",
    "\n",
    "print(f\"T-statistic: {t_stat:.4f}\")\n",
    "print(f\"P-value: {p_value:.4f}\")\n",
    "\n",
    "alpha = 0.05\n",
    "\n",
    "if p_value < alpha:\n",
    "    print(\"Reject the null hypothesis. There is a statistically significant difference in quality between the two versions.\")\n",
    "else:\n",
    "    print(\"Fail to reject the null hypothesis. There is no statistically significant difference in quality between the two versions.\")"
   ]
  },
  {
   "cell_type": "code",
   "execution_count": 127,
   "id": "4f33d262-5d4a-42e0-a49c-a2295432257a",
   "metadata": {},
   "outputs": [],
   "source": [
    "# 20. A restaurant chain collects customer satisfaction scores for two different branches. Write a program to\n",
    "# analyze the scores, calculate the t-statistic, and determine if there's a statistically significant difference in\n",
    "# customer satisfaction between the branches.\n",
    "\n",
    "\n",
    "# Use the below data of scores:\n",
    "\n",
    "#  ```python\n",
    "\n",
    "# branch_a_scores = [4, 5, 3, 4, 5, 4, 5, 3, 4, 4, 5, 4, 4, 3, 4, 5, 5, 4, 3, 4, 5, 4, 3, 5, 4, 4, 5, 3, 4, 5, 4]\n",
    "\n",
    "#  branch_b_scores = [3, 4, 2, 3, 4, 3, 4, 2, 3, 3, 4, 3, 3, 2, 3, 4, 4, 3, 2, 3, 4, 3, 2, 4, 3, 3, 4, 2, 3, 4, 3]"
   ]
  },
  {
   "cell_type": "code",
   "execution_count": 128,
   "id": "5faa0f42-14c9-41ea-83aa-00480196ddbc",
   "metadata": {},
   "outputs": [
    {
     "name": "stdout",
     "output_type": "stream",
     "text": [
      "T-statistic: 5.4801\n",
      "P-value: 0.0000\n",
      "Reject the null hypothesis. There is a statistically significant difference in customer satisfaction between the branches.\n"
     ]
    }
   ],
   "source": [
    "from scipy.stats import ttest_ind\n",
    "\n",
    "branch_a_scores = [4, 5, 3, 4, 5, 4, 5, 3, 4, 4, 5, 4, 4, 3, 4, 5, 5, 4, 3, 4, 5, 4, 3, 5, 4, 4, 5, 3, 4, 5, 4]\n",
    "branch_b_scores = [3, 4, 2, 3, 4, 3, 4, 2, 3, 3, 4, 3, 3, 2, 3, 4, 4, 3, 2, 3, 4, 3, 2, 4, 3, 3, 4, 2, 3, 4, 3]\n",
    "\n",
    "t_stat, p_value = ttest_ind(branch_a_scores, branch_b_scores)\n",
    "\n",
    "print(f\"T-statistic: {t_stat:.4f}\")\n",
    "print(f\"P-value: {p_value:.4f}\")\n",
    "\n",
    "alpha = 0.05\n",
    "\n",
    "if p_value < alpha:\n",
    "    print(\"Reject the null hypothesis. There is a statistically significant difference in customer satisfaction between the branches.\")\n",
    "else:\n",
    "    print(\"Fail to reject the null hypothesis. There is no statistically significant difference in customer satisfaction between the branches.\")\n"
   ]
  },
  {
   "cell_type": "code",
   "execution_count": 129,
   "id": "2a043e0c-0400-4c4a-8eec-661a6c3f76dd",
   "metadata": {},
   "outputs": [],
   "source": [
    "#21 . A political analyst wants to determine if there is a significant association between age groups and voter\n",
    "#preferences (Candidate A or Candidate B). They collect data from a sample of 500 voters and classi@y\n",
    "# them into different age groups and candidate preferences. Perform a Chi-Square test to determine i@\n",
    "#there is a significant association between age groups and voter preferences.\n",
    "\n",
    "\n",
    "# Use the below code to generate data:\n",
    "\n",
    "# ```python\n",
    "\n",
    "#np.random.seed(0)\n",
    "\n",
    "#age_groups = np.random.choice([ 18 30 , 31 50 , 51+', 51+'], size=30)\n",
    "\n",
    "#voter_preferences = np.random.choice(['Candidate A', 'Candidate B'], size=30)"
   ]
  },
  {
   "cell_type": "code",
   "execution_count": 130,
   "id": "e809c5ba-35e1-4def-96aa-9ab930e26f69",
   "metadata": {},
   "outputs": [
    {
     "name": "stdout",
     "output_type": "stream",
     "text": [
      "Contingency Table:\n",
      "Voter Preference  Candidate A  Candidate B\n",
      "Age Group                                 \n",
      "18-30                      95           87\n",
      "31-50                      87           82\n",
      "51+                        84           65\n",
      "\n",
      "Chi-Square Statistic: 0.8780\n",
      "P-value: 0.6447\n",
      "Degrees of Freedom: 2\n",
      "Expected Frequencies:\n",
      "[[96.824 85.176]\n",
      " [89.908 79.092]\n",
      " [79.268 69.732]]\n",
      "\n",
      "Fail to reject the null hypothesis. There is no significant association between age groups and voter preferences.\n"
     ]
    }
   ],
   "source": [
    "from scipy.stats import chi2_contingency\n",
    "\n",
    "np.random.seed(0)\n",
    "age_groups = np.random.choice(['18-30', '31-50', '51+'], size=500)\n",
    "voter_preferences = np.random.choice(['Candidate A', 'Candidate B'], size=500)\n",
    "\n",
    "data = pd.DataFrame({'Age Group': age_groups, 'Voter Preference': voter_preferences})\n",
    "contingency_table = pd.crosstab(data['Age Group'], data['Voter Preference'])\n",
    "\n",
    "print(\"Contingency Table:\")\n",
    "print(contingency_table)\n",
    "\n",
    "chi2_stat, p_value, dof, expected = chi2_contingency(contingency_table)\n",
    "\n",
    "print(f\"\\nChi-Square Statistic: {chi2_stat:.4f}\")\n",
    "print(f\"P-value: {p_value:.4f}\")\n",
    "print(f\"Degrees of Freedom: {dof}\")\n",
    "print(\"Expected Frequencies:\")\n",
    "print(expected)\n",
    "\n",
    "alpha = 0.05\n",
    "\n",
    "if p_value < alpha:\n",
    "    print(\"\\nReject the null hypothesis. There is a significant association between age groups and voter preferences.\")\n",
    "else:\n",
    "    print(\"\\nFail to reject the null hypothesis. There is no significant association between age groups and voter preferences.\")\n"
   ]
  },
  {
   "cell_type": "code",
   "execution_count": 131,
   "id": "1dd5dc91-cd0f-4d35-8d47-56cc23958201",
   "metadata": {},
   "outputs": [],
   "source": [
    " #22. A company conducted a customer satisfaction survey to determine if there is a significant relationship\n",
    "# between product satisfaction levels (Satisfied, Neutral, Dissatisfied) and the region where customers are\n",
    "# located (East, West, North, South). The survey data is summarized in a contingency table. Conduct a ChiSquare test to determine if there is a significant relationship between product satisfaction levels and\n",
    "# customer regions.\n",
    "\n",
    "\n",
    "# Sample data:\n",
    "\n",
    "#```python\n",
    "\n",
    "#Sample data: Product satisfaction levels (rows) vs. Customer regions (columns)\n",
    "\n",
    "#data = np.array([[50, 30, 40, 20], [30, 40, 30, 50], [20, 30, 40, 30]])"
   ]
  },
  {
   "cell_type": "code",
   "execution_count": 133,
   "id": "b5559fde-2672-4864-b828-9859f8b8c2b3",
   "metadata": {},
   "outputs": [
    {
     "name": "stdout",
     "output_type": "stream",
     "text": [
      "Chi-Square Statistic: 27.7771\n",
      "P-value: 0.0001\n",
      "Degrees of Freedom: 6\n",
      "Expected Frequencies:\n",
      "[[34.14634146 34.14634146 37.56097561 34.14634146]\n",
      " [36.58536585 36.58536585 40.24390244 36.58536585]\n",
      " [29.26829268 29.26829268 32.19512195 29.26829268]]\n",
      "\n",
      "Reject the null hypothesis. There is a significant relationship between product satisfaction levels and customer regions.\n"
     ]
    }
   ],
   "source": [
    "from scipy.stats import chi2_contingency\n",
    "\n",
    "data = np.array([[50, 30, 40, 20],  # Satisfied\n",
    "                 [30, 40, 30, 50],  # Neutral\n",
    "                 [20, 30, 40, 30]]) # Dissatisfied\n",
    "\n",
    "chi2_stat, p_value, dof, expected = chi2_contingency(data)\n",
    "\n",
    "print(f\"Chi-Square Statistic: {chi2_stat:.4f}\")\n",
    "print(f\"P-value: {p_value:.4f}\")\n",
    "print(f\"Degrees of Freedom: {dof}\")\n",
    "print(\"Expected Frequencies:\")\n",
    "print(expected)\n",
    "\n",
    "alpha = 0.05\n",
    "\n",
    "if p_value < alpha:\n",
    "    print(\"\\nReject the null hypothesis. There is a significant relationship between product satisfaction levels and customer regions.\")\n",
    "else:\n",
    "    print(\"\\nFail to reject the null hypothesis. There is no significant relationship between product satisfaction levels and customer regions.\")"
   ]
  },
  {
   "cell_type": "code",
   "execution_count": 134,
   "id": "4f82cb8b-bdf2-4d15-b8af-73a2ed90869a",
   "metadata": {},
   "outputs": [],
   "source": [
    "#23. A company implemented an employee training program to improve job performance (Effective, Neutral,\n",
    "#Ineffective). After the training, they collected data from a sample of employees and classified them based\n",
    "#on their job performance before and after the training. Perform a Chi-Square test to determine if there is a\n",
    "#significant difference between job performance levels before and after the training.\n",
    "\n",
    "\n",
    "#Sample data:\n",
    "\n",
    "#```python\n",
    "\n",
    "# Sample data: Job performance levels before (rows) and after (columns) training\n",
    "\n",
    "#data = np.array([[50, 30, 20], [30, 40, 30], [20, 30, 40]])"
   ]
  },
  {
   "cell_type": "code",
   "execution_count": 135,
   "id": "d22a1e45-b936-4586-b99a-d0bce8cc49df",
   "metadata": {},
   "outputs": [
    {
     "name": "stdout",
     "output_type": "stream",
     "text": [
      "Chi-Square Statistic: 22.1617\n",
      "P-value: 0.0002\n",
      "Degrees of Freedom: 4\n",
      "Expected Frequencies:\n",
      "[[34.48275862 34.48275862 31.03448276]\n",
      " [34.48275862 34.48275862 31.03448276]\n",
      " [31.03448276 31.03448276 27.93103448]]\n",
      "\n",
      "Reject the null hypothesis. There is a significant difference in job performance levels before and after training.\n"
     ]
    }
   ],
   "source": [
    "from scipy.stats import chi2_contingency\n",
    "\n",
    "data = np.array([[50, 30, 20],  # Effective before training\n",
    "                 [30, 40, 30],  # Neutral before training\n",
    "                 [20, 30, 40]]) # Ineffective before training\n",
    "\n",
    "chi2_stat, p_value, dof, expected = chi2_contingency(data)\n",
    "\n",
    "print(f\"Chi-Square Statistic: {chi2_stat:.4f}\")\n",
    "print(f\"P-value: {p_value:.4f}\")\n",
    "print(f\"Degrees of Freedom: {dof}\")\n",
    "print(\"Expected Frequencies:\")\n",
    "print(expected)\n",
    "\n",
    "alpha = 0.05\n",
    "\n",
    "if p_value < alpha:\n",
    "    print(\"\\nReject the null hypothesis. There is a significant difference in job performance levels before and after training.\")\n",
    "else:\n",
    "    print(\"\\nFail to reject the null hypothesis. There is no significant difference in job performance levels before and after training.\")"
   ]
  },
  {
   "cell_type": "code",
   "execution_count": 136,
   "id": "53557388-e147-4afc-a7d2-d731e27ca356",
   "metadata": {},
   "outputs": [],
   "source": [
    "# 24. A company produces three different versions of a product: Standard, Premium, and Deluxe. The\n",
    "#company wants to determine if there is a significant difference in customer satisfaction scores among the\n",
    "#three product versions. They conducted a survey and collected customer satisfaction scores for each\n",
    "#version from a random sample of customers. Perform an ANOVA test to determine if there is a significant\n",
    "#difference in customer satisfaction scores.\n",
    "\n",
    "\n",
    " # Use the following data:\n",
    "\n",
    "  #```python\n",
    "\n",
    "  # Sample data: Customer satisfaction scores for each product version\n",
    "\n",
    "  #standard_scores = [80, 85, 90, 78, 88, 82, 92, 78, 85, 87]\n",
    "\n",
    "  #premium_scores = [90, 92, 88, 92, 95, 91, 96, 93, 89, 93]\n",
    "\n",
    "  #deluxe_scores = [95, 98, 92, 97, 96, 94, 98, 97, 92, 99]"
   ]
  },
  {
   "cell_type": "code",
   "execution_count": 137,
   "id": "4b50b12b-25a1-4bb3-8561-54af9d90b5f4",
   "metadata": {},
   "outputs": [
    {
     "name": "stdout",
     "output_type": "stream",
     "text": [
      "F-statistic: 27.0356\n",
      "P-value: 0.0000\n",
      "Reject the null hypothesis. There is a significant difference in customer satisfaction scores among the product versions.\n"
     ]
    }
   ],
   "source": [
    "from scipy.stats import f_oneway\n",
    "\n",
    "standard_scores = [80, 85, 90, 78, 88, 82, 92, 78, 85, 87]\n",
    "premium_scores = [90, 92, 88, 92, 95, 91, 96, 93, 89, 93]\n",
    "deluxe_scores = [95, 98, 92, 97, 96, 94, 98, 97, 92, 99]\n",
    "\n",
    "f_stat, p_value = f_oneway(standard_scores, premium_scores, deluxe_scores)\n",
    "\n",
    "print(f\"F-statistic: {f_stat:.4f}\")\n",
    "print(f\"P-value: {p_value:.4f}\")\n",
    "\n",
    "alpha = 0.05\n",
    "\n",
    "if p_value < alpha:\n",
    "    print(\"Reject the null hypothesis. There is a significant difference in customer satisfaction scores among the product versions.\")\n",
    "else:\n",
    "    print(\"Fail to reject the null hypothesis. There is no significant difference in customer satisfaction scores among the product versions.\")"
   ]
  }
 ],
 "metadata": {
  "kernelspec": {
   "display_name": "Python 3 (ipykernel)",
   "language": "python",
   "name": "python3"
  },
  "language_info": {
   "codemirror_mode": {
    "name": "ipython",
    "version": 3
   },
   "file_extension": ".py",
   "mimetype": "text/x-python",
   "name": "python",
   "nbconvert_exporter": "python",
   "pygments_lexer": "ipython3",
   "version": "3.10.8"
  }
 },
 "nbformat": 4,
 "nbformat_minor": 5
}
